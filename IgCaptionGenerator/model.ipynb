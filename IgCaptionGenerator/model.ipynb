{
 "cells": [
  {
   "cell_type": "markdown",
   "metadata": {},
   "source": [
    "### Initial tries and experimenting with feature extraction"
   ]
  },
  {
   "cell_type": "code",
   "execution_count": 1,
   "metadata": {},
   "outputs": [],
   "source": [
    "import numpy as np\n",
    "from tensorflow.keras.preprocessing import image\n",
    "from tensorflow.keras.applications.inception_v3 import InceptionV3, preprocess_input\n",
    "from tensorflow.keras.preprocessing.image import load_img"
   ]
  },
  {
   "cell_type": "code",
   "execution_count": 2,
   "metadata": {},
   "outputs": [],
   "source": [
    "model_incep = InceptionV3(include_top=False, weights='imagenet')"
   ]
  },
  {
   "cell_type": "code",
   "execution_count": 3,
   "metadata": {},
   "outputs": [],
   "source": [
    "def extract_features(image_path):\n",
    "    img = load_img(image_path, target_size=(299, 299))\n",
    "\n",
    "    img_array = image.img_to_array(img)\n",
    "    print(img_array.shape)\n",
    "\n",
    "    img_array = np.expand_dims(img_array, axis=0)\n",
    "\n",
    "    img_array = preprocess_input(img_array)\n",
    "\n",
    "    features = model_incep.predict(img_array)\n",
    "\n",
    "    return features"
   ]
  },
  {
   "cell_type": "code",
   "execution_count": 4,
   "metadata": {},
   "outputs": [
    {
     "name": "stdout",
     "output_type": "stream",
     "text": [
      "(299, 299, 3)\n",
      "\u001b[1m1/1\u001b[0m \u001b[32m━━━━━━━━━━━━━━━━━━━━\u001b[0m\u001b[37m\u001b[0m \u001b[1m4s\u001b[0m 4s/step\n",
      "Shape of extracted features: (1, 8, 8, 2048)\n"
     ]
    }
   ],
   "source": [
    "# Test with an example image\n",
    "image_path = 'C:\\\\Users\\\\sonia\\\\Pictures\\\\a62168474fc8d532c2708aec578cbff5.jpg'  # Replace with your image path\n",
    "features = extract_features(image_path)\n",
    "\n",
    "# Display the shape of the extracted features\n",
    "print(\"Shape of extracted features:\", features.shape)"
   ]
  },
  {
   "cell_type": "code",
   "execution_count": 5,
   "metadata": {},
   "outputs": [
    {
     "data": {
      "image/png": "[encoded data removed]",
      "text/plain": [
       "<Figure size 640x480 with 2 Axes>"
      ]
     },
     "metadata": {},
     "output_type": "display_data"
    }
   ],
   "source": [
    "import matplotlib.pyplot as plt\n",
    "\n",
    "# Extract the feature map of the last convolutional layer (8x8x2048)\n",
    "feature_map = features[0]  # Remove the batch dimension\n",
    "\n",
    "# Plot the feature map for the first channel (2048 channels)\n",
    "plt.imshow(feature_map[:, :, 0], cmap='viridis')\n",
    "plt.colorbar()\n",
    "plt.show()"
   ]
  },
  {
   "cell_type": "code",
   "execution_count": 6,
   "metadata": {},
   "outputs": [],
   "source": [
    "import spacy\n",
    "\n",
    "nlp = spacy.load('en_core_web_sm')"
   ]
  },
  {
   "cell_type": "code",
   "execution_count": 2,
   "metadata": {},
   "outputs": [],
   "source": [
    "import pandas as pd\n",
    "import zipfile\n",
    "import nltk\n",
    "import re\n",
    "\n",
    "# nltk.download('punkt')"
   ]
  },
  {
   "cell_type": "code",
   "execution_count": 3,
   "metadata": {},
   "outputs": [
    {
     "name": "stdout",
     "output_type": "stream",
     "text": [
      "(12031, 3)\n"
     ]
    }
   ],
   "source": [
    "import json\n",
    "\n",
    "zip_file_path = 'C:/Users/sonia/Desktop/ig-caption-gen/kaggle-dataset.zip'\n",
    "csv_file_name = 'instagram_data/captions_csv.csv'\n",
    "\n",
    "bad_words = ['fuck', 'bitch', 'hoe', 'motherfucker']\n",
    "\n",
    "with zipfile.ZipFile(zip_file_path, 'r') as z:\n",
    "    with z.open(csv_file_name) as f:\n",
    "        df = pd.read_csv(f)\n",
    "\n",
    "df.head()\n",
    "\n",
    "def contains_date(text):\n",
    "    doc = nlp(text)\n",
    "    for ent in doc.ents:\n",
    "        if ent.label_ == 'DATE':\n",
    "            return True\n",
    "    return False\n",
    "\n",
    "\n",
    "def tokenize_caption(text):\n",
    "    text = text.lower()\n",
    "    # text = text.replace(r',|.', '')\n",
    "    text = text.replace(r' +|\\t', ' ')\n",
    "    tokens = nltk.word_tokenize(text)\n",
    "    tokens = ['<start>'] + tokens + ['<end>']\n",
    "    return tokens\n",
    "\n",
    "\n",
    "data = df.dropna(subset=['Caption'])\n",
    "data = data[['Image File', 'Caption']]\n",
    "data = data.drop_duplicates(subset=['Caption'])\n",
    "data = data[data['Caption'].apply(len) < 60]\n",
    "data = data[~data['Caption'].str.contains(r'http\\S+|www\\S+', regex=True)]\n",
    "data = data[~data['Caption'].str.contains('|'.join(bad_words), case=False)]\n",
    "data['Tokenized Caption'] = data['Caption'].apply(tokenize_caption)\n",
    "\n",
    "data.to_csv('caption_data.csv', sep=',', index=False, encoding='utf-8')\n",
    "\n",
    "print(data.shape)\n",
    "\n",
    "\n",
    "# new_df = new_df['Contains date'] = new_df['Caption'].apply(contains_date)\n",
    "# new_df = new_df[new_df['Contains date'] == True]\n",
    "# print(new_df.head())"
   ]
  },
  {
   "cell_type": "code",
   "execution_count": 1,
   "metadata": {},
   "outputs": [],
   "source": [
    "from tensorflow.keras.preprocessing.text import Tokenizer\n",
    "import pandas as pd\n",
    "\n",
    "data = pd.read_csv('caption_data.csv')\n",
    "\n",
    "special_tokens = ['<start>', '<end>']\n",
    "\n",
    "tokenized_captions = data['Tokenized Caption'].tolist()\n",
    "\n",
    "tokenizer = Tokenizer(filters='.,', oov_token='<unk>')\n",
    "\n",
    "tokenizer.fit_on_texts(special_tokens)\n",
    "tokenizer.fit_on_texts(tokenized_captions)\n",
    "encoded_tokens = tokenizer.texts_to_sequences(tokenized_captions)\n",
    "\n",
    "data['Encoded Tokens'] = encoded_tokens\n",
    "\n",
    "data.to_csv('caption_data.csv', sep=',', index=False, encoding='utf-8')"
   ]
  },
  {
   "cell_type": "code",
   "execution_count": null,
   "metadata": {},
   "outputs": [
    {
     "name": "stdout",
     "output_type": "stream",
     "text": [
      "instagram_data/img/insta10.jpg\n",
      "instagram_data/img/insta11.jpg\n",
      "instagram_data/img/insta15.jpg\n",
      "instagram_data/img/insta16.jpg\n",
      "instagram_data/img/insta17.jpg\n",
      "instagram_data/img/insta18.jpg\n",
      "instagram_data/img/insta19.jpg\n",
      "instagram_data/img/insta2.jpg\n",
      "instagram_data/img/insta21.jpg\n",
      "instagram_data/img/insta22.jpg\n",
      "instagram_data/img/insta27.jpg\n",
      "instagram_data/img/insta29.jpg\n",
      "instagram_data/img/insta3.jpg\n",
      "instagram_data/img/insta30.jpg\n",
      "instagram_data/img/insta31.jpg\n",
      "instagram_data/img/insta32.jpg\n",
      "instagram_data/img/insta37.jpg\n",
      "instagram_data/img/insta38.jpg\n",
      "instagram_data/img/insta5.jpg\n",
      "instagram_data/img/insta7.jpg\n"
     ]
    }
   ],
   "source": [
    "import zipfile\n",
    "import os\n",
    "import pandas as pd\n",
    "\n",
    "zip_file_path = 'C:/Users/sonia/Desktop/ig-caption-gen/kaggle-dataset.zip'\n",
    "img_folder = 'instagram_data/img/'\n",
    "\n",
    "df = pd.read_csv('caption_data.csv')\n",
    "\n",
    "images_names = df['Image File'].values\n",
    "images_names = [os.path.basename(img) + '.jpg' for img in images_names]\n",
    "\n",
    "\n",
    "\n",
    "with zipfile.ZipFile(zip_file_path, 'r') as z:\n",
    "    for file in z.namelist():\n",
    "        if file.startswith(img_folder):\n",
    "            img_name = os.path.basename(file)\n",
    "            if img_name in images_names[:20]:\n",
    "                print(file)"
   ]
  }
 ],
 "metadata": {
  "kernelspec": {
   "display_name": "Python 3",
   "language": "python",
   "name": "python3"
  },
  "language_info": {
   "codemirror_mode": {
    "name": "ipython",
    "version": 3
   },
   "file_extension": ".py",
   "mimetype": "text/x-python",
   "name": "python",
   "nbconvert_exporter": "python",
   "pygments_lexer": "ipython3",
   "version": "3.11.10"
  }
 },
 "nbformat": 4,
 "nbformat_minor": 2
}
